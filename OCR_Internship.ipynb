{
 "cells": [
  {
   "cell_type": "markdown",
   "metadata": {},
   "source": [
    "# Installing pyTesseract"
   ]
  },
  {
   "cell_type": "code",
   "execution_count": 1,
   "metadata": {},
   "outputs": [
    {
     "name": "stdout",
     "output_type": "stream",
     "text": [
      "Requirement already satisfied: pytesseract in c:\\programdata\\anaconda3\\lib\\site-packages (0.3.9)\n",
      "Requirement already satisfied: packaging>=21.3 in c:\\programdata\\anaconda3\\lib\\site-packages (from pytesseract) (21.3)\n",
      "Requirement already satisfied: Pillow>=8.0.0 in c:\\programdata\\anaconda3\\lib\\site-packages (from pytesseract) (8.2.0)\n",
      "Requirement already satisfied: pyparsing!=3.0.5,>=2.0.2 in c:\\programdata\\anaconda3\\lib\\site-packages (from packaging>=21.3->pytesseract) (2.4.7)\n"
     ]
    }
   ],
   "source": [
    "!pip install pytesseract"
   ]
  },
  {
   "cell_type": "markdown",
   "metadata": {},
   "source": [
    "# Importing librariers"
   ]
  },
  {
   "cell_type": "code",
   "execution_count": 2,
   "metadata": {
    "id": "WrvjGe14z8jL"
   },
   "outputs": [],
   "source": [
    "import cv2\n",
    "import pytesseract\n",
    "import numpy as np\n",
    "from PIL import ImageGrab\n",
    "import time"
   ]
  },
  {
   "cell_type": "markdown",
   "metadata": {},
   "source": [
    "## Adding path for tesseract ocr"
   ]
  },
  {
   "cell_type": "code",
   "execution_count": 3,
   "metadata": {},
   "outputs": [
    {
     "data": {
      "text/plain": [
       "<module 'pytesseract' from 'C:\\\\ProgramData\\\\Anaconda3\\\\lib\\\\site-packages\\\\pytesseract\\\\__init__.py'>"
      ]
     },
     "execution_count": 3,
     "metadata": {},
     "output_type": "execute_result"
    }
   ],
   "source": [
    "pytesseract.pytesseract.tesseract_cmd = 'C:\\\\Program Files\\\\Tesseract-OCR\\\\tesseract.exe'\n",
    "pytesseract"
   ]
  },
  {
   "cell_type": "markdown",
   "metadata": {},
   "source": [
    "## Taking input error image"
   ]
  },
  {
   "cell_type": "code",
   "execution_count": 11,
   "metadata": {},
   "outputs": [],
   "source": [
    "img = cv2.imread(r\"C:\\Users\\DC\\Downloads\\e9.png\")\n",
    "img = cv2.cvtColor(img, cv2.COLOR_BGR2RGB)\n",
    "\n",
    "### OCR extracting Text from image into 'errormsg' variable \n",
    "errormsg=pytesseract.image_to_string(img)"
   ]
  },
  {
   "cell_type": "markdown",
   "metadata": {},
   "source": [
    "### Text including the error message line by line"
   ]
  },
  {
   "cell_type": "code",
   "execution_count": 12,
   "metadata": {},
   "outputs": [
    {
     "name": "stdout",
     "output_type": "stream",
     "text": [
      "-----:Error Message:-----\n",
      "\n",
      "\n",
      " print(‘hi)\n",
      "\n",
      "File \"<ipython-input-9-8878a92e9096>\", line 1\n",
      "print('hi)\n",
      "A\n",
      "\n",
      "SyntaxError: EOL while scanning string literal\n",
      " \n",
      "\n",
      "\n",
      "-----Error Message end-----\n"
     ]
    }
   ],
   "source": [
    "print(\"-----:Error Message:-----\\n\\n\\n\",errormsg,\"\\n\\n\\n-----Error Message end-----\")"
   ]
  },
  {
   "cell_type": "markdown",
   "metadata": {},
   "source": [
    "### Detecting Words from each line of text"
   ]
  },
  {
   "cell_type": "code",
   "execution_count": 13,
   "metadata": {},
   "outputs": [
    {
     "name": "stdout",
     "output_type": "stream",
     "text": [
      "level\tpage_num\tblock_num\tpar_num\tline_num\tword_num\tleft\ttop\twidth\theight\tconf\ttext\n",
      "1\t1\t0\t0\t0\t0\t0\t0\t673\t225\t-1\t\n",
      "2\t1\t1\t0\t0\t0\t0\t0\t673\t1\t-1\t\n",
      "3\t1\t1\t1\t0\t0\t0\t0\t673\t1\t-1\t\n",
      "4\t1\t1\t1\t1\t0\t0\t0\t673\t1\t-1\t\n",
      "5\t1\t1\t1\t1\t1\t0\t0\t673\t1\t95.000000\t \n",
      "2\t1\t2\t0\t0\t0\t17\t24\t122\t22\t-1\t\n",
      "3\t1\t2\t1\t0\t0\t17\t24\t122\t22\t-1\t\n",
      "4\t1\t2\t1\t1\t0\t17\t24\t122\t22\t-1\t\n",
      "5\t1\t2\t1\t1\t1\t17\t24\t122\t22\t59.281624\tprint(‘hi)\n",
      "2\t1\t3\t0\t0\t0\t41\t75\t569\t64\t-1\t\n",
      "3\t1\t3\t1\t0\t0\t41\t75\t569\t64\t-1\t\n",
      "4\t1\t3\t1\t1\t0\t41\t75\t569\t21\t-1\t\n",
      "5\t1\t3\t1\t1\t1\t41\t75\t48\t16\t92.327133\tFile\n",
      "5\t1\t3\t1\t1\t2\t106\t75\t412\t21\t91.390060\t\"<ipython-input-9-8878a92e9096>\",\n",
      "5\t1\t3\t1\t1\t3\t537\t75\t47\t16\t96.639938\tline\n",
      "5\t1\t3\t1\t1\t4\t600\t76\t10\t15\t96.823814\t1\n",
      "4\t1\t3\t1\t2\t0\t66\t102\t123\t22\t-1\t\n",
      "5\t1\t3\t1\t2\t1\t66\t102\t123\t22\t48.020416\tprint('hi)\n",
      "4\t1\t3\t1\t3\t0\t193\t132\t10\t7\t-1\t\n",
      "5\t1\t3\t1\t3\t1\t193\t132\t10\t7\t69.299744\tA\n",
      "2\t1\t4\t0\t0\t0\t15\t159\t582\t21\t-1\t\n",
      "3\t1\t4\t1\t0\t0\t15\t159\t582\t21\t-1\t\n",
      "4\t1\t4\t1\t1\t0\t15\t159\t582\t21\t-1\t\n",
      "5\t1\t4\t1\t1\t1\t15\t160\t147\t20\t91.120064\tSyntaxError:\n",
      "5\t1\t4\t1\t1\t2\t181\t160\t35\t15\t96.464714\tEOL\n",
      "5\t1\t4\t1\t1\t3\t230\t159\t62\t16\t96.810303\twhile\n",
      "5\t1\t4\t1\t1\t4\t308\t159\t99\t21\t96.083176\tscanning\n",
      "5\t1\t4\t1\t1\t5\t422\t159\t74\t21\t96.526329\tstring\n",
      "5\t1\t4\t1\t1\t6\t511\t159\t86\t16\t96.175064\tliteral\n"
     ]
    }
   ],
   "source": [
    "##############################################\n",
    "##### Detecting Words  ######\n",
    "##############################################\n",
    "# #[   0          1           2           3           4          5         6       7       8        9        10       11 ]\n",
    "# #['level', 'page_num', 'block_num', 'par_num', 'line_num', 'word_num', 'left', 'top', 'width', 'height', 'conf', 'text']\n",
    "boxes = pytesseract.image_to_data(img)\n",
    "for a,b in enumerate(boxes.splitlines()):\n",
    "        print(b)\n",
    "        if a!=0:\n",
    "            b = b.split()\n",
    "            if len(b)==12:\n",
    "                x,y,w,h = int(b[6]),int(b[7]),int(b[8]),int(b[9])\n",
    "                cv2.putText(img,b[11],(x,y-5),cv2.FONT_HERSHEY_SIMPLEX,1,(50,50,255),2)\n",
    "                cv2.rectangle(img, (x,y), (x+w, y+h), (50, 50, 255), 2)"
   ]
  },
  {
   "cell_type": "code",
   "execution_count": 14,
   "metadata": {},
   "outputs": [
    {
     "data": {
      "text/plain": [
       "['print(‘hi)',\n",
       " 'File',\n",
       " '\"<ipython-input-9-8878a92e9096>\",',\n",
       " 'line',\n",
       " '1',\n",
       " \"print('hi)\",\n",
       " 'A',\n",
       " 'SyntaxError:',\n",
       " 'EOL',\n",
       " 'while',\n",
       " 'scanning',\n",
       " 'string',\n",
       " 'literal']"
      ]
     },
     "execution_count": 14,
     "metadata": {},
     "output_type": "execute_result"
    }
   ],
   "source": [
    "txtmsg=errormsg.split()\n",
    "txtmsg"
   ]
  },
  {
   "cell_type": "markdown",
   "metadata": {},
   "source": [
    "### Types of errors (more types to be added)"
   ]
  },
  {
   "cell_type": "code",
   "execution_count": 22,
   "metadata": {},
   "outputs": [],
   "source": [
    "errortypes=['SyntaxError:','NameError:','IndentationError:']\n",
    "errorAt=[]"
   ]
  },
  {
   "cell_type": "markdown",
   "metadata": {},
   "source": [
    "### Types of error in the image"
   ]
  },
  {
   "cell_type": "code",
   "execution_count": 23,
   "metadata": {},
   "outputs": [
    {
     "name": "stdout",
     "output_type": "stream",
     "text": [
      "-----Types of errors-----\n",
      "SyntaxError:\n"
     ]
    }
   ],
   "source": [
    "print(\"-----Types of errors-----\")\n",
    "for i in range(0,len(txtmsg)):\n",
    "    if txtmsg[i] in errortypes:\n",
    "        print(txtmsg[i])       \n",
    "        errorAt.append(i)\n",
    "#         print(i)"
   ]
  },
  {
   "cell_type": "markdown",
   "metadata": {},
   "source": [
    "### Specific Error Message"
   ]
  },
  {
   "cell_type": "code",
   "execution_count": 24,
   "metadata": {},
   "outputs": [
    {
     "data": {
      "text/plain": [
       "'SyntaxError: EOL while scanning string literal'"
      ]
     },
     "execution_count": 24,
     "metadata": {},
     "output_type": "execute_result"
    }
   ],
   "source": [
    "wholeError=' '.join([str(item) for item in txtmsg[errorAt[0]::]])\n",
    "wholeError"
   ]
  },
  {
   "cell_type": "code",
   "execution_count": null,
   "metadata": {},
   "outputs": [],
   "source": []
  }
 ],
 "metadata": {
  "colab": {
   "name": "OCR_Internship.ipynb",
   "provenance": []
  },
  "kernelspec": {
   "display_name": "Python 3",
   "language": "python",
   "name": "python3"
  },
  "language_info": {
   "codemirror_mode": {
    "name": "ipython",
    "version": 3
   },
   "file_extension": ".py",
   "mimetype": "text/x-python",
   "name": "python",
   "nbconvert_exporter": "python",
   "pygments_lexer": "ipython3",
   "version": "3.8.8"
  }
 },
 "nbformat": 4,
 "nbformat_minor": 1
}
